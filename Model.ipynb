{
 "cells": [
  {
   "cell_type": "code",
   "execution_count": 1,
   "metadata": {},
   "outputs": [],
   "source": [
    "import torch\n",
    "import torch.nn as nn\n",
    "import torch.nn.functional as F\n",
    "import torch.optim as optim\n",
    "from torch.utils.data import DataLoader\n",
    "from torchvision import datasets, transforms\n",
    "import matplotlib.pyplot as plt\n",
    "\n",
    "\n",
    "\n",
    "from PIL import Image\n",
    "import numpy as np\n",
    "import PIL.ImageOps"
   ]
  },
  {
   "cell_type": "code",
   "execution_count": 2,
   "metadata": {},
   "outputs": [],
   "source": [
    "class ConvNet(nn.Module):\n",
    "    \n",
    "    def __init__(self):\n",
    "        \n",
    "        super(ConvNet, self).__init__()\n",
    "        self.cn1 = nn.Conv2d(1,16,3,1)\n",
    "        self.cn2 = nn.Conv2d(16,32,3,1)\n",
    "        self.dp1 = nn.Dropout2d(0.10)\n",
    "        self.dp2 = nn.Dropout2d(0.25)\n",
    "        self.fc1 = nn.Linear(4608,64)\n",
    "        self.fc2 = nn.Linear(64,10)\n",
    "        \n",
    "    def forward(self,x):\n",
    "        x = self.cn1(x) # Size changes from (28,28,1) to (26,26,16)\n",
    "        x = F.relu(x)\n",
    "        x = self.cn2(x) #Size changes from (26,26,16) to (24,24,32)\n",
    "        x = F.relu(x)\n",
    "        x = F.max_pool2d(x,2) #Size changes from (24,24,32) to (12,12,32)\n",
    "        x = self.dp1(x)\n",
    "        x = torch.flatten(x,1) #Size flattened to (12*12*32 -->> 4608)\n",
    "        x = self.fc1(x)\n",
    "        x = F.relu(x)\n",
    "        x = self.dp2(x)\n",
    "        x = self.fc2(x)\n",
    "        op = F.log_softmax(x, dim = 1)\n",
    "        return op\n",
    "        "
   ]
  },
  {
   "cell_type": "code",
   "execution_count": 3,
   "metadata": {},
   "outputs": [],
   "source": [
    "training = datasets.MNIST(\"\", train = True, download = True, \n",
    "                          transform = transforms.Compose([transforms.ToTensor()]))\n",
    "testing = datasets.MNIST(\"\", train = False, download = True,\n",
    "                        transform = transforms.Compose([transforms.ToTensor()]))"
   ]
  },
  {
   "cell_type": "code",
   "execution_count": 4,
   "metadata": {},
   "outputs": [],
   "source": [
    "train_dataloader = torch.utils.data.DataLoader(training, batch_size = 10, shuffle = True)\n",
    "test_dataloader = torch.utils.data.DataLoader(testing, batch_size = 10, shuffle = True)"
   ]
  },
  {
   "cell_type": "code",
   "execution_count": 5,
   "metadata": {},
   "outputs": [],
   "source": [
    "model = ConvNet()\n",
    "learn_rate = optim.Adadelta(model.parameters(), lr = 0.5)\n",
    "epochs = 4"
   ]
  },
  {
   "cell_type": "code",
   "execution_count": 6,
   "metadata": {},
   "outputs": [
    {
     "name": "stdout",
     "output_type": "stream",
     "text": [
      "tensor(0.3792, grad_fn=<NllLossBackward>)\n",
      "tensor(0.0131, grad_fn=<NllLossBackward>)\n",
      "tensor(0.0026, grad_fn=<NllLossBackward>)\n",
      "tensor(0.3897, grad_fn=<NllLossBackward>)\n"
     ]
    }
   ],
   "source": [
    "#Training the network for 4 epochs\n",
    "for i in range(epochs):\n",
    "    for data in train_dataloader:\n",
    "        image, output = data\n",
    "        model.zero_grad()\n",
    "        result = model(image)\n",
    "        loss = F.nll_loss(result, output)\n",
    "        loss.backward()\n",
    "        learn_rate.step()\n",
    "    print(loss)"
   ]
  },
  {
   "cell_type": "code",
   "execution_count": 7,
   "metadata": {},
   "outputs": [
    {
     "data": {
      "text/plain": [
       "ConvNet(\n",
       "  (cn1): Conv2d(1, 16, kernel_size=(3, 3), stride=(1, 1))\n",
       "  (cn2): Conv2d(16, 32, kernel_size=(3, 3), stride=(1, 1))\n",
       "  (dp1): Dropout2d(p=0.1, inplace=False)\n",
       "  (dp2): Dropout2d(p=0.25, inplace=False)\n",
       "  (fc1): Linear(in_features=4608, out_features=64, bias=True)\n",
       "  (fc2): Linear(in_features=64, out_features=10, bias=True)\n",
       ")"
      ]
     },
     "execution_count": 7,
     "metadata": {},
     "output_type": "execute_result"
    }
   ],
   "source": [
    "model.eval() "
   ]
  },
  {
   "cell_type": "code",
   "execution_count": 8,
   "metadata": {},
   "outputs": [
    {
     "name": "stdout",
     "output_type": "stream",
     "text": [
      "Accuracy: 0.9875\n"
     ]
    }
   ],
   "source": [
    "correct = 0\n",
    "total = 0\n",
    "\n",
    "with torch.no_grad():\n",
    "    for data2 in test_dataloader:\n",
    "        image2, output2 = data2\n",
    "        result2 = model(image2)\n",
    "        for index, tensor_value in enumerate(result2):\n",
    "            total += 1\n",
    "            if torch.argmax(tensor_value) == output2[index]:\n",
    "                correct += 1\n",
    "                \n",
    "accuracy = correct / total\n",
    "print(f\"Accuracy: {accuracy}\")"
   ]
  },
  {
   "cell_type": "code",
   "execution_count": 32,
   "metadata": {},
   "outputs": [
    {
     "data": {
      "image/png": "[encoded data removed]",
      "text/plain": [
       "<Figure size 640x480 with 1 Axes>"
      ]
     },
     "metadata": {},
     "output_type": "display_data"
    }
   ],
   "source": [
    "plt.imshow(image[9].view(28,28))\n",
    "plt.show()"
   ]
  },
  {
   "cell_type": "code",
   "execution_count": 33,
   "metadata": {},
   "outputs": [
    {
     "name": "stdout",
     "output_type": "stream",
     "text": [
      "tensor(7)\n"
     ]
    }
   ],
   "source": [
    "print(torch.argmax(model(image)[9]))"
   ]
  },
  {
   "cell_type": "code",
   "execution_count": null,
   "metadata": {},
   "outputs": [],
   "source": []
  }
 ],
 "metadata": {
  "kernelspec": {
   "display_name": "Python 3",
   "language": "python",
   "name": "python3"
  },
  "language_info": {
   "codemirror_mode": {
    "name": "ipython",
    "version": 3
   },
   "file_extension": ".py",
   "mimetype": "text/x-python",
   "name": "python",
   "nbconvert_exporter": "python",
   "pygments_lexer": "ipython3",
   "version": "3.8.5"
  }
 },
 "nbformat": 4,
 "nbformat_minor": 4
}
